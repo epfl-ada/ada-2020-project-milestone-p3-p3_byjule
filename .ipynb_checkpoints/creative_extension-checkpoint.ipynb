{
 "cells": [
  {
   "cell_type": "code",
   "execution_count": 1,
   "metadata": {},
   "outputs": [
    {
     "ename": "SyntaxError",
     "evalue": "invalid syntax (plot_helper.py, line 82)",
     "output_type": "error",
     "traceback": [
      "Traceback \u001b[1;36m(most recent call last)\u001b[0m:\n",
      "  File \u001b[0;32m\"D:\\Anaconda3\\envs\\ADA\\lib\\site-packages\\IPython\\core\\interactiveshell.py\"\u001b[0m, line \u001b[0;32m3417\u001b[0m, in \u001b[0;35mrun_code\u001b[0m\n    exec(code_obj, self.user_global_ns, self.user_ns)\n",
      "\u001b[1;36m  File \u001b[1;32m\"<ipython-input-1-d975598c5fce>\"\u001b[1;36m, line \u001b[1;32m8\u001b[1;36m, in \u001b[1;35m<module>\u001b[1;36m\u001b[0m\n\u001b[1;33m    from plot_helper import *\u001b[0m\n",
      "\u001b[1;36m  File \u001b[1;32m\"D:\\Quentin Juppet\\Bureau\\Applied Data Analysis\\ada-2020-project-milestone-p3-p3_byjule\\plot_helper.py\"\u001b[1;36m, line \u001b[1;32m82\u001b[0m\n\u001b[1;33m    ax.set_yticks(np.arange(len(corr.columns))\u001b[0m\n\u001b[1;37m    ^\u001b[0m\n\u001b[1;31mSyntaxError\u001b[0m\u001b[1;31m:\u001b[0m invalid syntax\n"
     ]
    }
   ],
   "source": [
    "# Import the required libraries\n",
    "import json\n",
    "import pandas as pd\n",
    "import seaborn as sns\n",
    "import matplotlib.pyplot as plt\n",
    "import numpy as np\n",
    "from features_helper import *\n",
    "from plot_helper import *\n",
    "\n",
    "init_style()"
   ]
  },
  {
   "cell_type": "code",
   "execution_count": null,
   "metadata": {},
   "outputs": [],
   "source": [
    "data_path = 'data/diplomacy_data.json'\n",
    "\n",
    "# Load the json data\n",
    "with open(data_path) as data_file:\n",
    "    data_json = json.load(data_file)"
   ]
  },
  {
   "cell_type": "markdown",
   "metadata": {},
   "source": [
    "## Loading the features"
   ]
  },
  {
   "cell_type": "code",
   "execution_count": null,
   "metadata": {},
   "outputs": [],
   "source": [
    "# Get the last friendly action for each friendship\n",
    "last_friendly_action = get_last_friendly_action(data_json)"
   ]
  },
  {
   "cell_type": "code",
   "execution_count": null,
   "metadata": {},
   "outputs": [],
   "source": [
    "season_features_victim = load_season_features(data_json, last_friendly_action, 'victim')\n",
    "season_features_betrayer = load_season_features(data_json, last_friendly_action, 'betrayer')\n",
    "season_features = pd.concat([season_features_victim, season_features_betrayer])\n",
    "season_features.head()"
   ]
  },
  {
   "cell_type": "code",
   "execution_count": null,
   "metadata": {
    "scrolled": true
   },
   "outputs": [],
   "source": [
    "friendship_features = get_friendship_features(season_features)\n",
    "friendship_features.head()"
   ]
  },
  {
   "cell_type": "code",
   "execution_count": null,
   "metadata": {},
   "outputs": [],
   "source": [
    "final_features = merge_player_features(friendship_features, on=['idx', 'betrayal'])\n",
    "final_features.head()"
   ]
  },
  {
   "cell_type": "code",
   "execution_count": null,
   "metadata": {},
   "outputs": [],
   "source": [
    "fig, (ax1, ax2) = plt.subplots(1, 2, sharex=False, sharey=False, constrained_layout=True)\n",
    "fig.suptitle('Politeness (avg. season score)')\n",
    "\n",
    "draw_imbalance_plot(ax1, ax2, season_features, 'politeness', (-0.04, 0.04), (0.6, 0.75), True)"
   ]
  },
  {
   "cell_type": "code",
   "execution_count": null,
   "metadata": {},
   "outputs": [],
   "source": [
    "fig, (ax1, ax2) = plt.subplots(1, 2, sharex=False, sharey=False, constrained_layout=True)\n",
    "fig.suptitle('Support (avg. season score)')\n",
    "\n",
    "draw_imbalance_plot(ax1, ax2, season_features, 'support', (-0.04, 0.05), (0.40, 0.6), True)"
   ]
  },
  {
   "cell_type": "code",
   "execution_count": null,
   "metadata": {},
   "outputs": [],
   "source": [
    "fig, (ax1, ax2) = plt.subplots(1, 2, sharex=False, sharey=False, constrained_layout=True)\n",
    "fig.suptitle('Mean season support (avg. player score)')\n",
    "\n",
    "draw_imbalance_plot(ax1, ax2, friendship_features, 'mean_support', (-0.04, 0.07), (0.4, 0.6), True, 'friendship')"
   ]
  },
  {
   "cell_type": "code",
   "execution_count": null,
   "metadata": {},
   "outputs": [],
   "source": [
    "fig, (ax1, ax2) = plt.subplots(1, 2, sharex=False, sharey=False, constrained_layout=True)\n",
    "fig.suptitle('Variance season support (avg. player score)')\n",
    "\n",
    "draw_imbalance_plot(ax1, ax2, friendship_features, 'var_support', (-0.02, 0.04), (0.15, 0.35), True, 'friendship')"
   ]
  },
  {
   "cell_type": "code",
   "execution_count": null,
   "metadata": {},
   "outputs": [],
   "source": [
    "corr = final_features.drop(columns=['idx']).corr().abs()\n",
    "corr_plot(corr)"
   ]
  },
  {
   "cell_type": "code",
   "execution_count": null,
   "metadata": {},
   "outputs": [],
   "source": [
    "betrayal_corr = corr.loc[corr.columns[1]:, 'betrayal'].to_frame().reset_index()\n",
    "betrayal_corr = betrayal_corr.rename(columns={'betrayal' : 'betrayal_correlation'})\n",
    "betrayal_corr['feature_type'] = 'Mean'\n",
    "betrayal_corr.loc[betrayal_corr['index'].str.startswith('var'), 'feature_type'] = 'Variance'\n",
    "betrayal_corr.sort_values(by='betrayal_correlation', ascending=False)\n",
    "betrayal_corr.head(5)"
   ]
  },
  {
   "cell_type": "code",
   "execution_count": null,
   "metadata": {},
   "outputs": [],
   "source": [
    "feature_type_corr_plot(betrayal_corr)"
   ]
  }
 ],
 "metadata": {
  "kernelspec": {
   "display_name": "Python 3",
   "language": "python",
   "name": "python3"
  },
  "language_info": {
   "codemirror_mode": {
    "name": "ipython",
    "version": 3
   },
   "file_extension": ".py",
   "mimetype": "text/x-python",
   "name": "python",
   "nbconvert_exporter": "python",
   "pygments_lexer": "ipython3",
   "version": "3.8.5"
  }
 },
 "nbformat": 4,
 "nbformat_minor": 2
}
